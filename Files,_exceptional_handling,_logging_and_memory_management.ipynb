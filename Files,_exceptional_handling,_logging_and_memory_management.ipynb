{
  "nbformat": 4,
  "nbformat_minor": 0,
  "metadata": {
    "colab": {
      "provenance": [],
      "collapsed_sections": [
        "wmClOA4Vc-ft"
      ]
    },
    "kernelspec": {
      "name": "python3",
      "display_name": "Python 3"
    },
    "language_info": {
      "name": "python"
    }
  },
  "cells": [
    {
      "cell_type": "markdown",
      "source": [
        "# **#Theory Questions:-**"
      ],
      "metadata": {
        "id": "wmClOA4Vc-ft"
      }
    },
    {
      "cell_type": "markdown",
      "source": [
        "### 1. What is the difference between interpreted and compiled languages?  \n",
        "**Answer:** Interpreted languages execute code line by line at runtime, while compiled languages convert the entire code into machine code before execution. Python is an interpreted language.\n",
        "\n",
        "---\n",
        "\n",
        "### 2. What is exception handling in Python?  \n",
        "**Answer:** Exception handling in Python refers to the mechanism of handling runtime errors to maintain normal program flow using `try`, `except`, `else`, and `finally` blocks.\n",
        "\n",
        "---\n",
        "\n",
        "### 3. What is the purpose of the finally block in exception handling?  \n",
        "**Answer:** The `finally` block is used to execute code that must run regardless of whether an exception occurs or not, such as closing resources.\n",
        "\n",
        "---\n",
        "\n",
        "### 4. What is logging in Python?  \n",
        "**Answer:** Logging in Python is a way to record messages or events during program execution for debugging and monitoring purposes, using the `logging` module.\n",
        "\n",
        "---\n",
        "\n",
        "### 5. What is the significance of the `__del__` method in Python?  \n",
        "**Answer:** The `__del__` method in Python is a destructor that is called when an object is deleted or garbage collected, allowing cleanup operations.\n",
        "\n",
        "---\n",
        "\n",
        "### 6. What is the difference between import and from... import in Python?  \n",
        "**Answer:** `import` imports the entire module, while `from... import` imports specific components or functions from a module.\n",
        "\n",
        "---\n",
        "\n",
        "### 7. How can you handle multiple exceptions in Python?  \n",
        "**Answer:** Multiple exceptions in Python can be handled by specifying them in a tuple within a single `except` block or by using multiple `except` blocks.\n",
        "\n",
        "---\n",
        "\n",
        "### 8. What is the purpose of the with statement when handling files in Python?  \n",
        "**Answer:** The `with` statement ensures that a file is properly closed after its operations are completed, even if an exception occurs during file handling.\n",
        "\n",
        "---\n",
        "\n",
        "### 9. What is the difference between multithreading and multiprocessing?  \n",
        "**Answer:** Multithreading uses threads within the same process, sharing memory, while multiprocessing uses separate processes, each with its own memory space.\n",
        "\n",
        "---\n",
        "\n",
        "### 10. What are the advantages of using logging in a program?  \n",
        "**Answer:** Logging provides better error tracking, debugging, and performance monitoring without interrupting the program flow.\n",
        "\n",
        "---\n",
        "\n",
        "### 11. What is memory management in Python?  \n",
        "**Answer:** Memory management in Python involves allocating and deallocating memory dynamically, managed by the Python memory manager and garbage collection.\n",
        "\n",
        "---\n",
        "\n",
        "### 12. What are the basic steps involved in exception handling in Python?  \n",
        "**Answer:** The basic steps are:\n",
        "1. Write the code in a `try` block.\n",
        "2. Catch exceptions using one or more `except` blocks.\n",
        "3. Optionally, add `else` for code execution if no exception occurs.\n",
        "4. Use `finally` for cleanup tasks.\n",
        "\n",
        "---\n",
        "\n",
        "### 13. Why is memory management important in Python?  \n",
        "**Answer:** Memory management ensures efficient use of memory, prevents memory leaks, and helps in reclaiming unused memory through garbage collection.\n",
        "\n",
        "---\n",
        "\n",
        "### 14. What is the role of try and except in exception handling?  \n",
        "**Answer:** The `try` block contains the code that might raise an exception, while the `except` block catches and handles specific or general exceptions.\n",
        "\n",
        "---\n",
        "\n",
        "### 15. How does Python's garbage collection system work?  \n",
        "**Answer:** Python’s garbage collection system automatically reclaims unused memory by identifying objects with no references and freeing them.\n",
        "\n",
        "---\n",
        "\n",
        "### 16. What is the purpose of the else block in exception handling?  \n",
        "**Answer:** The `else` block executes code if no exception occurs in the `try` block.\n",
        "\n",
        "---\n",
        "\n",
        "### 17. What are the common logging levels in Python?  \n",
        "**Answer:** Common logging levels are:\n",
        "- DEBUG\n",
        "- INFO\n",
        "- WARNING\n",
        "- ERROR\n",
        "- CRITICAL\n",
        "\n",
        "---\n",
        "\n",
        "### 18. What is the difference between os.fork() and multiprocessing in Python?  \n",
        "**Answer:** `os.fork()` creates a child process using the same memory space, specific to Unix-like systems, while `multiprocessing` provides a platform-independent API to create separate processes with isolated memory.\n",
        "\n",
        "---\n",
        "\n",
        "### 19. What is the importance of closing a file in Python?  \n",
        "**Answer:** Closing a file ensures that all resources are released, data is saved, and file handles are freed.\n",
        "\n",
        "---\n",
        "\n",
        "### 20. What is the difference between file.read() and file.readline() in Python?  \n",
        "**Answer:** `file.read()` reads the entire file content, while `file.readline()` reads a single line from the file.\n",
        "\n",
        "---\n",
        "\n",
        "### 21. What is the logging module in Python used for?  \n",
        "**Answer:** The logging module in Python is used to log messages for tracking, debugging, and monitoring program behavior.\n",
        "\n",
        "---\n",
        "\n",
        "### 22. What is the os module in Python used for in file handling?  \n",
        "**Answer:** The `os` module provides functions to interact with the file system, such as creating, deleting, and navigating files and directories.\n",
        "\n",
        "---\n",
        "\n",
        "### 23. What are the challenges associated with memory management in Python?  \n",
        "**Answer:** Challenges include managing circular references, ensuring efficient memory allocation, and optimizing memory for large data processing.\n",
        "\n",
        "---\n",
        "\n",
        "### 24. How do you raise an exception manually in Python?  \n",
        "**Answer:** Use the `raise` statement with an exception class, e.g., `raise ValueError(\"Invalid input\")`.\n",
        "\n",
        "---\n",
        "\n",
        "### 25. Why is it important to use multithreading in certain applications?  \n",
        "**Answer:** Multithreading is important for improving performance, responsiveness, and handling concurrent tasks in applications with I/O or lightweight processing."
      ],
      "metadata": {
        "id": "OyjQxFc0dEfJ"
      }
    },
    {
      "cell_type": "markdown",
      "source": [
        "# **# Practical Questions:-**"
      ],
      "metadata": {
        "id": "IaIQER_edjH1"
      }
    },
    {
      "cell_type": "code",
      "source": [
        "### 1. How can you open a file for writing in Python and write a string to it?\n",
        "with open(\"example.txt\", \"w\") as file:\n",
        "    file.write(\"Hello, World!\")"
      ],
      "metadata": {
        "id": "7RiPjJLYd1q-"
      },
      "execution_count": 4,
      "outputs": []
    },
    {
      "cell_type": "code",
      "source": [
        "### 2. Write a Python program to read the contents of a file and print each line.\n",
        "with open(\"example.txt\", \"r\") as file:\n",
        "    for line in file:\n",
        "        print(line.strip())\n"
      ],
      "metadata": {
        "colab": {
          "base_uri": "https://localhost:8080/"
        },
        "id": "-fbiucFkfqXS",
        "outputId": "bacebf9b-93b4-4e68-f147-592593925ae3"
      },
      "execution_count": 6,
      "outputs": [
        {
          "output_type": "stream",
          "name": "stdout",
          "text": [
            "Hello, World!\n"
          ]
        }
      ]
    },
    {
      "cell_type": "code",
      "source": [
        "### 3. How would you handle a case where the file doesn't exist while trying to open it for reading?\n",
        "try:\n",
        "    with open(\"my_file.txt\", \"r\") as f:\n",
        "        # Process the file\n",
        "        pass\n",
        "except FileNotFoundError:\n",
        "    print(\"The file was not found.\")"
      ],
      "metadata": {
        "colab": {
          "base_uri": "https://localhost:8080/"
        },
        "id": "aHwYcj-If8DA",
        "outputId": "cfb7753c-4a74-49a6-acc6-482c1a2933ab"
      },
      "execution_count": 7,
      "outputs": [
        {
          "output_type": "stream",
          "name": "stdout",
          "text": [
            "The file was not found.\n"
          ]
        }
      ]
    },
    {
      "cell_type": "code",
      "source": [
        "### 4. Write a Python script that reads from one file and writes its content to another file.\n",
        "# Define the file paths\n",
        "source_file = \"source.txt\"\n",
        "destination_file = \"destination.txt\"\n",
        "\n",
        "try:\n",
        "    # Open the source file in read mode and destination file in write mode\n",
        "    with open(source_file, \"r\") as src, open(destination_file, \"w\") as dest:\n",
        "        # Read from the source file and write to the destination file\n",
        "        for line in src:\n",
        "            dest.write(line)\n",
        "    print(f\"Content successfully copied from {source_file} to {destination_file}.\")\n",
        "except FileNotFoundError:\n",
        "    print(f\"Error: The file {source_file} does not exist.\")\n",
        "except Exception as e:\n",
        "    print(f\"An error occurred: {e}\")\n"
      ],
      "metadata": {
        "colab": {
          "base_uri": "https://localhost:8080/"
        },
        "id": "1Azqt2X6gGqI",
        "outputId": "1cf473e0-6a77-4e15-9949-f81250ff9308"
      },
      "execution_count": 46,
      "outputs": [
        {
          "output_type": "stream",
          "name": "stdout",
          "text": [
            "Error: The file source.txt does not exist.\n"
          ]
        }
      ]
    },
    {
      "cell_type": "code",
      "source": [
        "### 5. How would you catch and handle division by zero error in Python?\n",
        "try:\n",
        "    result = 10 / 0\n",
        "except ZeroDivisionError:\n",
        "    print(\"Error: Division by zero\")"
      ],
      "metadata": {
        "colab": {
          "base_uri": "https://localhost:8080/"
        },
        "id": "e2dfAlaDgTOR",
        "outputId": "70557654-cd77-42ff-b72d-5ce3117d496a"
      },
      "execution_count": 11,
      "outputs": [
        {
          "output_type": "stream",
          "name": "stdout",
          "text": [
            "Error: Division by zero\n"
          ]
        }
      ]
    },
    {
      "cell_type": "code",
      "source": [
        "### 6. Write a Python program that logs an error message to a log file when a division by zero exception occurs.\n",
        "import logging\n",
        "logging.basicConfig(filename=\"error.log\", level=logging.ERROR)\n",
        "\n",
        "try:\n",
        "    result = 10 / 0\n",
        "except ZeroDivisionError as e:\n",
        "    logging.error(\"Division by zero error occurred: %s\", e)\n"
      ],
      "metadata": {
        "id": "A2KmcCC4r3Hm"
      },
      "execution_count": null,
      "outputs": []
    },
    {
      "cell_type": "code",
      "source": [
        "### 7. How do you log information at different levels (INFO, ERROR, WARNING) in Python using the logging module?\n",
        "import logging\n",
        "\n",
        "logging.basicConfig(level=logging.DEBUG) # Set the root logger level\n",
        "\n",
        "logging.debug(\"This is a debug message.\")\n",
        "logging.info(\"This is an info message.\")\n",
        "logging.warning(\"This is a warning message.\")\n",
        "logging.error(\"This is an error message.\")\n",
        "logging.critical(\"This is a critical message.\")"
      ],
      "metadata": {
        "colab": {
          "base_uri": "https://localhost:8080/"
        },
        "id": "mhNYBIPEgh-z",
        "outputId": "a5a0d534-cf82-46fb-c013-ffcb77e39169"
      },
      "execution_count": 13,
      "outputs": [
        {
          "output_type": "stream",
          "name": "stderr",
          "text": [
            "WARNING:root:This is a warning message.\n",
            "ERROR:root:This is an error message.\n",
            "CRITICAL:root:This is a critical message.\n"
          ]
        }
      ]
    },
    {
      "cell_type": "code",
      "source": [
        "### 8. Write a program to handle a file opening error using exception handling.\n",
        "try:\n",
        "    with open(\"nonexistent_file.txt\", \"r\") as f:\n",
        "        # Process the file\n",
        "        pass\n",
        "except FileNotFoundError:\n",
        "    print(\"Error: File not found\")\n",
        "except IOError:\n",
        "    print(\"Error: Could not open or read file\")"
      ],
      "metadata": {
        "colab": {
          "base_uri": "https://localhost:8080/"
        },
        "id": "oqDxQnjsgrz8",
        "outputId": "f8eea285-a310-45d3-bb75-64d6ee3d0a60"
      },
      "execution_count": 14,
      "outputs": [
        {
          "output_type": "stream",
          "name": "stdout",
          "text": [
            "Error: File not found\n"
          ]
        }
      ]
    },
    {
      "cell_type": "code",
      "source": [
        "### 9. How can you read a file line by line and store its content in a list in Python?\n",
        "with open(\"example.txt\", \"r\") as file:\n",
        "    lines = [line.strip() for line in file]\n"
      ],
      "metadata": {
        "id": "LB6hW45Tgych"
      },
      "execution_count": 45,
      "outputs": []
    },
    {
      "cell_type": "code",
      "source": [
        "### 10. How can you append data to an existing file in Python?\n",
        "with open(\"my_file.txt\", \"a\") as f:\n",
        "    f.write(\"\\nThis is appended text.\")"
      ],
      "metadata": {
        "id": "WYPgiUAVgyaQ"
      },
      "execution_count": 16,
      "outputs": []
    },
    {
      "cell_type": "code",
      "source": [
        "### 11. Write a Python program that uses a try-except block to handle an error when attempting to access a dictionary key that doesn't exist.\n",
        "my_dict = {\"a\": 1, \"b\": 2}\n",
        "\n",
        "try:\n",
        "    value = my_dict[\"c\"]  # Key 'c' doesn't exist\n",
        "except KeyError:\n",
        "    print(\"Error: Key not found in dictionary\")"
      ],
      "metadata": {
        "colab": {
          "base_uri": "https://localhost:8080/"
        },
        "id": "WC7M80CihBa4",
        "outputId": "824be240-53a4-4b20-f334-68cf902c33c7"
      },
      "execution_count": 17,
      "outputs": [
        {
          "output_type": "stream",
          "name": "stdout",
          "text": [
            "Error: Key not found in dictionary\n"
          ]
        }
      ]
    },
    {
      "cell_type": "code",
      "source": [
        "### 12. Write a program that demonstrates using multiple except blocks to handle different types of exceptions.\n",
        "try:\n",
        "    result = 10 / 0\n",
        "    value = int(\"abc\")  # This will cause a ValueError\n",
        "except ZeroDivisionError:\n",
        "    print(\"Error: Division by zero\")\n",
        "except ValueError:\n",
        "    print(\"Error: Invalid value for conversion\")"
      ],
      "metadata": {
        "id": "1BMUkY2thJKO"
      },
      "execution_count": null,
      "outputs": []
    },
    {
      "cell_type": "code",
      "source": [
        "### 13. How would you check if a file exists before attempting to read it in Python?\n",
        "import os\n",
        "\n",
        "if os.path.exists(\"my_file.txt\"):\n",
        "    with open(\"my_file.txt\", \"r\") as f:\n",
        "        # Process the file\n",
        "        pass\n",
        "else:\n",
        "    print(\"File does not exist.\")"
      ],
      "metadata": {
        "id": "Kk3NR16ThRYa"
      },
      "execution_count": 19,
      "outputs": []
    },
    {
      "cell_type": "code",
      "source": [
        "### 14. Write a program that uses the logging module to log both informational and error messages.\n",
        "import logging\n",
        "\n",
        "# Set up logging configuration\n",
        "logging.basicConfig(level=logging.DEBUG, format='%(asctime)s - %(levelname)s - %(message)s')\n",
        "\n",
        "# Log an informational message\n",
        "logging.info('This is an informational message.')\n",
        "\n",
        "# Log an error message\n",
        "logging.error('This is an error message.')\n",
        "\n",
        "# Log a warning message\n",
        "logging.warning('This is a warning message.')\n",
        "\n",
        "# Log a critical message\n",
        "logging.critical('This is a critical message.')\n"
      ],
      "metadata": {
        "colab": {
          "base_uri": "https://localhost:8080/"
        },
        "id": "gc-YfNqwhXgH",
        "outputId": "ded30a53-0f81-479c-e68a-5ae039113c94"
      },
      "execution_count": 58,
      "outputs": [
        {
          "output_type": "stream",
          "name": "stderr",
          "text": [
            "ERROR:root:This is an error message.\n",
            "WARNING:root:This is a warning message.\n",
            "CRITICAL:root:This is a critical message.\n"
          ]
        }
      ]
    },
    {
      "cell_type": "code",
      "source": [
        "### 15. Write a Python program that prints the content of a file and handles the case when the file is empty.\n",
        "try:\n",
        "    with open(\"my_file.txt\", \"r\") as f:\n",
        "        content = f.read()\n",
        "        if content:\n",
        "            print(content)\n",
        "        else:\n",
        "            print(\"File is empty.\")\n",
        "except FileNotFoundError:\n",
        "    print(\"File not found.\")"
      ],
      "metadata": {
        "colab": {
          "base_uri": "https://localhost:8080/"
        },
        "id": "6-jeHR1whZg2",
        "outputId": "55c93854-30c0-4cf3-a8bc-916ef9139aa7"
      },
      "execution_count": 44,
      "outputs": [
        {
          "output_type": "stream",
          "name": "stdout",
          "text": [
            "\n",
            "This is appended text.\n"
          ]
        }
      ]
    },
    {
      "cell_type": "code",
      "source": [
        "### 16. Demonstrate how to use memory profiling to check the memory usage of a small program.\n",
        "from memory_profiler import profile\n",
        "\n",
        "@profile\n",
        "def small_function():\n",
        "    x = [i for i in range(1000)]\n",
        "    return sum(x)\n",
        "\n",
        "small_function()\n"
      ],
      "metadata": {
        "id": "j1yf429amdZL"
      },
      "execution_count": null,
      "outputs": []
    },
    {
      "cell_type": "code",
      "source": [
        "### 17. Write a Python program to create and write a list of numbers to a file, one number per line.\n",
        "numbers = [1, 2, 3, 4, 5]\n",
        "\n",
        "with open(\"numbers.txt\", \"w\") as f:\n",
        "    for number in numbers:\n",
        "        f.write(str(number) + \"\\n\")"
      ],
      "metadata": {
        "id": "AzUDj211hoki"
      },
      "execution_count": 22,
      "outputs": []
    },
    {
      "cell_type": "code",
      "source": [
        "### 18. How would you implement a basic logging setup that logs to a file with rotation after 1MB?\n",
        "import logging\n",
        "from logging.handlers import RotatingFileHandler\n",
        "\n",
        "logger = logging.getLogger(__name__)\n",
        "logger.setLevel(logging.INFO)\n",
        "\n",
        "handler = RotatingFileHandler(\"my_log.log\", maxBytes=1024 * 1024, backupCount=5)\n",
        "formatter = logging.Formatter('%(asctime)s - %(name)s - %(levelname)s - %(message)s')\n",
        "handler.setFormatter(formatter)\n",
        "logger.addHandler(handler)\n",
        "\n",
        "logger.info(\"This is a test log message.\")"
      ],
      "metadata": {
        "colab": {
          "base_uri": "https://localhost:8080/"
        },
        "id": "thsHLXLdhpoP",
        "outputId": "da5c0c9d-f25e-4609-d46f-7e95ac5763e7"
      },
      "execution_count": 56,
      "outputs": [
        {
          "output_type": "stream",
          "name": "stderr",
          "text": [
            "INFO:__main__:This is a test log message.\n"
          ]
        }
      ]
    },
    {
      "cell_type": "code",
      "source": [
        "### 19. Write a program that handles both IndexError and KeyError using a try-except block.\n",
        "my_list = [1, 2, 3]\n",
        "my_dict = {\"a\": 1, \"b\": 2}\n",
        "\n",
        "try:\n",
        "    # This might cause IndexError\n",
        "    value1 = my_list[3]\n",
        "    # This might cause KeyError\n",
        "    value2 = my_dict[\"c\"]\n",
        "except IndexError:\n",
        "    print(\"Error: Index out of range\")\n",
        "except KeyError:\n",
        "    print(\"Error: Key not found in dictionary\")"
      ],
      "metadata": {
        "colab": {
          "base_uri": "https://localhost:8080/"
        },
        "id": "9PgvEBd3hpaa",
        "outputId": "b420d21d-3253-43e7-fc62-06feb6ac1ef6"
      },
      "execution_count": 24,
      "outputs": [
        {
          "output_type": "stream",
          "name": "stdout",
          "text": [
            "Error: Index out of range\n"
          ]
        }
      ]
    },
    {
      "cell_type": "code",
      "source": [
        "### 20. How would you open a file and read its contents using a context manager in Python?\n",
        "with open(\"my_file.txt\", \"r\") as f:\n",
        "    contents = f.read()\n",
        "    print(contents)"
      ],
      "metadata": {
        "colab": {
          "base_uri": "https://localhost:8080/"
        },
        "id": "HHBQ0RrAtIW7",
        "outputId": "67c2d7ea-14bb-4285-ce73-efe2f40375fe"
      },
      "execution_count": 55,
      "outputs": [
        {
          "output_type": "stream",
          "name": "stdout",
          "text": [
            "\n",
            "This is appended text.\n"
          ]
        }
      ]
    },
    {
      "cell_type": "code",
      "source": [
        "### 21. Write a Python program that reads a file and prints the number of occurrences of a specific word.\n",
        "def count_word_occurrences(filename, word):\n",
        "    count = 0\n",
        "    with open(filename, \"r\") as f:\n",
        "        for line in f:\n",
        "            words = line.lower().split()\n",
        "            count += words.count(word.lower())\n",
        "    return count\n",
        "\n",
        "filename = \"my_file.txt\"\n",
        "word_to_count = \"example\"\n",
        "occurrences = count_word_occurrences(filename, word_to_count)\n",
        "print(f\"The word '{word_to_count}' appears {occurrences} times in the file.\")"
      ],
      "metadata": {
        "colab": {
          "base_uri": "https://localhost:8080/"
        },
        "id": "i41RB29NhpKy",
        "outputId": "0137f484-70e5-4345-cc6f-ad2c49db9284"
      },
      "execution_count": 26,
      "outputs": [
        {
          "output_type": "stream",
          "name": "stdout",
          "text": [
            "The word 'example' appears 0 times in the file.\n"
          ]
        }
      ]
    },
    {
      "cell_type": "code",
      "source": [
        "### 22. How can you check if a file is empty before attempting to read its contents?\n",
        "import os\n",
        "\n",
        "def is_file_empty(file_path):\n",
        "    \"\"\"Checks if a file is empty.\n",
        "\n",
        "    Args:\n",
        "        file_path: The path to the file.\n",
        "\n",
        "    Returns:\n",
        "        True if the file is empty, False otherwise.\n",
        "    \"\"\"\n",
        "    return os.stat(file_path).st_size == 0\n",
        "\n",
        "# Example usage:\n",
        "file_path = \"my_file.txt\"\n",
        "\n",
        "if is_file_empty(file_path):\n",
        "    print(f\"The file '{file_path}' is empty.\")\n",
        "else:\n",
        "    print(f\"The file '{file_path}' is not empty.\")\n",
        "    # Proceed with reading the file contents"
      ],
      "metadata": {
        "colab": {
          "base_uri": "https://localhost:8080/"
        },
        "id": "abHsR78vhpHg",
        "outputId": "e540ec4f-efd9-4853-ddff-f6717777996f"
      },
      "execution_count": 27,
      "outputs": [
        {
          "output_type": "stream",
          "name": "stdout",
          "text": [
            "The file 'my_file.txt' is not empty.\n"
          ]
        }
      ]
    },
    {
      "cell_type": "code",
      "source": [
        "### 23. Write a Python program that writes to a log file when an error occurs during file handling\n",
        "import logging\n",
        "\n",
        "# Configure the logger\n",
        "logging.basicConfig(filename='file_handling_errors.log', level=logging.ERROR,\n",
        "                    format='%(asctime)s - %(levelname)s - %(message)s')\n",
        "\n",
        "def process_file(filename):\n",
        "    try:\n",
        "        with open(filename, 'r') as f:\n",
        "            # Perform file operations here (e.g., reading, writing)\n",
        "            content = f.read()\n",
        "            # ...\n",
        "    except FileNotFoundError:\n",
        "        logging.error(f\"File not found: {filename}\")\n",
        "    except IOError as e:\n",
        "        logging.error(f\"Error during file operation: {e}\")\n",
        "\n",
        "# Example usage\n",
        "filename = \"my_file.txt\"  # Replace with your actual file name\n",
        "process_file(filename)"
      ],
      "metadata": {
        "id": "0nXwhU5giFfQ"
      },
      "execution_count": 47,
      "outputs": []
    }
  ]
}